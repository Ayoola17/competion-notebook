{
 "cells": [
  {
   "cell_type": "code",
   "execution_count": 1,
   "id": "70ac4e92",
   "metadata": {},
   "outputs": [],
   "source": [
    "#import library\n",
    "import pandas as pd\n",
    "import numpy as np\n",
    "import matplotlib.pyplot as plt\n",
    "import tensorflow as tf\n",
    "from tensorflow import keras\n",
    "from tensorflow.keras import layers, models\n",
    "from sklearn.model_selection import train_test_split"
   ]
  },
  {
   "cell_type": "code",
   "execution_count": 2,
   "id": "1c0daf8d",
   "metadata": {},
   "outputs": [],
   "source": [
    "#load dataset using pandas\n",
    "df_train = pd.read_csv('./train.csv')\n",
    "df_test = pd.read_csv('./test.csv')"
   ]
  },
  {
   "cell_type": "code",
   "execution_count": 3,
   "id": "ddb080ff",
   "metadata": {},
   "outputs": [
    {
     "data": {
      "text/html": [
       "<div>\n",
       "<style scoped>\n",
       "    .dataframe tbody tr th:only-of-type {\n",
       "        vertical-align: middle;\n",
       "    }\n",
       "\n",
       "    .dataframe tbody tr th {\n",
       "        vertical-align: top;\n",
       "    }\n",
       "\n",
       "    .dataframe thead th {\n",
       "        text-align: right;\n",
       "    }\n",
       "</style>\n",
       "<table border=\"1\" class=\"dataframe\">\n",
       "  <thead>\n",
       "    <tr style=\"text-align: right;\">\n",
       "      <th></th>\n",
       "      <th>label</th>\n",
       "      <th>pixel0</th>\n",
       "      <th>pixel1</th>\n",
       "      <th>pixel2</th>\n",
       "      <th>pixel3</th>\n",
       "      <th>pixel4</th>\n",
       "      <th>pixel5</th>\n",
       "      <th>pixel6</th>\n",
       "      <th>pixel7</th>\n",
       "      <th>pixel8</th>\n",
       "      <th>...</th>\n",
       "      <th>pixel774</th>\n",
       "      <th>pixel775</th>\n",
       "      <th>pixel776</th>\n",
       "      <th>pixel777</th>\n",
       "      <th>pixel778</th>\n",
       "      <th>pixel779</th>\n",
       "      <th>pixel780</th>\n",
       "      <th>pixel781</th>\n",
       "      <th>pixel782</th>\n",
       "      <th>pixel783</th>\n",
       "    </tr>\n",
       "  </thead>\n",
       "  <tbody>\n",
       "    <tr>\n",
       "      <th>0</th>\n",
       "      <td>1</td>\n",
       "      <td>0</td>\n",
       "      <td>0</td>\n",
       "      <td>0</td>\n",
       "      <td>0</td>\n",
       "      <td>0</td>\n",
       "      <td>0</td>\n",
       "      <td>0</td>\n",
       "      <td>0</td>\n",
       "      <td>0</td>\n",
       "      <td>...</td>\n",
       "      <td>0</td>\n",
       "      <td>0</td>\n",
       "      <td>0</td>\n",
       "      <td>0</td>\n",
       "      <td>0</td>\n",
       "      <td>0</td>\n",
       "      <td>0</td>\n",
       "      <td>0</td>\n",
       "      <td>0</td>\n",
       "      <td>0</td>\n",
       "    </tr>\n",
       "    <tr>\n",
       "      <th>1</th>\n",
       "      <td>0</td>\n",
       "      <td>0</td>\n",
       "      <td>0</td>\n",
       "      <td>0</td>\n",
       "      <td>0</td>\n",
       "      <td>0</td>\n",
       "      <td>0</td>\n",
       "      <td>0</td>\n",
       "      <td>0</td>\n",
       "      <td>0</td>\n",
       "      <td>...</td>\n",
       "      <td>0</td>\n",
       "      <td>0</td>\n",
       "      <td>0</td>\n",
       "      <td>0</td>\n",
       "      <td>0</td>\n",
       "      <td>0</td>\n",
       "      <td>0</td>\n",
       "      <td>0</td>\n",
       "      <td>0</td>\n",
       "      <td>0</td>\n",
       "    </tr>\n",
       "    <tr>\n",
       "      <th>2</th>\n",
       "      <td>1</td>\n",
       "      <td>0</td>\n",
       "      <td>0</td>\n",
       "      <td>0</td>\n",
       "      <td>0</td>\n",
       "      <td>0</td>\n",
       "      <td>0</td>\n",
       "      <td>0</td>\n",
       "      <td>0</td>\n",
       "      <td>0</td>\n",
       "      <td>...</td>\n",
       "      <td>0</td>\n",
       "      <td>0</td>\n",
       "      <td>0</td>\n",
       "      <td>0</td>\n",
       "      <td>0</td>\n",
       "      <td>0</td>\n",
       "      <td>0</td>\n",
       "      <td>0</td>\n",
       "      <td>0</td>\n",
       "      <td>0</td>\n",
       "    </tr>\n",
       "    <tr>\n",
       "      <th>3</th>\n",
       "      <td>4</td>\n",
       "      <td>0</td>\n",
       "      <td>0</td>\n",
       "      <td>0</td>\n",
       "      <td>0</td>\n",
       "      <td>0</td>\n",
       "      <td>0</td>\n",
       "      <td>0</td>\n",
       "      <td>0</td>\n",
       "      <td>0</td>\n",
       "      <td>...</td>\n",
       "      <td>0</td>\n",
       "      <td>0</td>\n",
       "      <td>0</td>\n",
       "      <td>0</td>\n",
       "      <td>0</td>\n",
       "      <td>0</td>\n",
       "      <td>0</td>\n",
       "      <td>0</td>\n",
       "      <td>0</td>\n",
       "      <td>0</td>\n",
       "    </tr>\n",
       "    <tr>\n",
       "      <th>4</th>\n",
       "      <td>0</td>\n",
       "      <td>0</td>\n",
       "      <td>0</td>\n",
       "      <td>0</td>\n",
       "      <td>0</td>\n",
       "      <td>0</td>\n",
       "      <td>0</td>\n",
       "      <td>0</td>\n",
       "      <td>0</td>\n",
       "      <td>0</td>\n",
       "      <td>...</td>\n",
       "      <td>0</td>\n",
       "      <td>0</td>\n",
       "      <td>0</td>\n",
       "      <td>0</td>\n",
       "      <td>0</td>\n",
       "      <td>0</td>\n",
       "      <td>0</td>\n",
       "      <td>0</td>\n",
       "      <td>0</td>\n",
       "      <td>0</td>\n",
       "    </tr>\n",
       "  </tbody>\n",
       "</table>\n",
       "<p>5 rows × 785 columns</p>\n",
       "</div>"
      ],
      "text/plain": [
       "   label  pixel0  pixel1  pixel2  pixel3  pixel4  pixel5  pixel6  pixel7  \\\n",
       "0      1       0       0       0       0       0       0       0       0   \n",
       "1      0       0       0       0       0       0       0       0       0   \n",
       "2      1       0       0       0       0       0       0       0       0   \n",
       "3      4       0       0       0       0       0       0       0       0   \n",
       "4      0       0       0       0       0       0       0       0       0   \n",
       "\n",
       "   pixel8  ...  pixel774  pixel775  pixel776  pixel777  pixel778  pixel779  \\\n",
       "0       0  ...         0         0         0         0         0         0   \n",
       "1       0  ...         0         0         0         0         0         0   \n",
       "2       0  ...         0         0         0         0         0         0   \n",
       "3       0  ...         0         0         0         0         0         0   \n",
       "4       0  ...         0         0         0         0         0         0   \n",
       "\n",
       "   pixel780  pixel781  pixel782  pixel783  \n",
       "0         0         0         0         0  \n",
       "1         0         0         0         0  \n",
       "2         0         0         0         0  \n",
       "3         0         0         0         0  \n",
       "4         0         0         0         0  \n",
       "\n",
       "[5 rows x 785 columns]"
      ]
     },
     "execution_count": 3,
     "metadata": {},
     "output_type": "execute_result"
    }
   ],
   "source": [
    "df_train.head()"
   ]
  },
  {
   "cell_type": "code",
   "execution_count": 4,
   "id": "8d63edf1",
   "metadata": {},
   "outputs": [],
   "source": [
    "#create train image from df train\n",
    "train_images = df_train.iloc[:, 1:].values.reshape(-1, 28, 28, 1)"
   ]
  },
  {
   "cell_type": "code",
   "execution_count": 5,
   "id": "97aa52e5",
   "metadata": {},
   "outputs": [],
   "source": [
    "#create test image from df_test\n",
    "test_images = df_test.iloc[:, :].values.reshape(-1, 28, 28, 1)"
   ]
  },
  {
   "cell_type": "code",
   "execution_count": 6,
   "id": "571acf2a",
   "metadata": {},
   "outputs": [],
   "source": [
    "#setting y to label\n",
    "y = df_train['label']"
   ]
  },
  {
   "cell_type": "code",
   "execution_count": 7,
   "id": "1359b806",
   "metadata": {},
   "outputs": [
    {
     "data": {
      "text/plain": [
       "<Figure size 720x720 with 0 Axes>"
      ]
     },
     "metadata": {},
     "output_type": "display_data"
    },
    {
     "data": {
      "image/png": "[encoded data removed]",
      "text/plain": [
       "<Figure size 432x288 with 10 Axes>"
      ]
     },
     "metadata": {
      "needs_background": "light"
     },
     "output_type": "display_data"
    }
   ],
   "source": [
    "#visualise few images\n",
    "plt.figure(figsize=(10,10))\n",
    "f, ax = plt.subplots(2, 5)\n",
    "\n",
    "for i in range(5):\n",
    "    ax[0,i].imshow(train_images[i+5])\n",
    "    ax[0,i].set_title(y[i+5])\n",
    "    ax[1,i].imshow(train_images[i])\n",
    "    ax[1,i].set_title(y[i])\n",
    "    "
   ]
  },
  {
   "cell_type": "code",
   "execution_count": 8,
   "id": "df5dc99d",
   "metadata": {},
   "outputs": [],
   "source": [
    "#split the data to train and validation\n",
    "X_train, X_val, y_train, y_val = train_test_split(train_images, y, test_size=0.2, random_state=42, shuffle=False)"
   ]
  },
  {
   "cell_type": "code",
   "execution_count": 9,
   "id": "939e42b1",
   "metadata": {},
   "outputs": [],
   "source": [
    "#reshape images and convert to float\n",
    "X_train = X_train.reshape(-1, 784)/255.\n",
    "X_val = X_val.reshape(-1, 784)/255.\n",
    "X_test = test_images.reshape(-1, 784)/255."
   ]
  },
  {
   "cell_type": "code",
   "execution_count": 10,
   "id": "a73f7652",
   "metadata": {},
   "outputs": [],
   "source": [
    "class MLP_Model(models.Model):\n",
    "    def __init__(self, units, activations, out_units, out_activation):\n",
    "        \"\"\"\n",
    "        A Multi-layer perceptron model, subclassing models.Model.\n",
    "\n",
    "        args:\n",
    "            units, list of integers giving number of units in first three layers\n",
    "            activations, list of strings giving the activations of the first\n",
    "                         three layers\n",
    "            out_units, number of units in the output layer\n",
    "            out_activation, activation function of the output layer\n",
    "        \"\"\"\n",
    "        super(MLP_Model, self).__init__()\n",
    "        self.units = units\n",
    "        self.activations = activations\n",
    "        self.out_units = out_units\n",
    "        self.out_activation = out_activation\n",
    "\n",
    "        #setting up layers\n",
    "        self.inputs = layers.Input(shape=(784,), dtype='float32')\n",
    "\n",
    "        self.Dense1 = layers.Dense(units=self.units[0], activation=self.activations[0],\n",
    "                                   name='MLP_Dense_1')\n",
    "        self.Dense2 = layers.Dense(units=self.units[1], activation=self.activations[1],\n",
    "                                   name='MLP_Dense_2')\n",
    "        self.Dense3 = layers.Dense(units=self.units[2], activation=self.activations[2],\n",
    "                                   name='MLP_Dense_3')\n",
    "\n",
    "        self.Output = layers.Dense(self.out_units, activation=self.out_activation)\n",
    "\n",
    "  \n",
    "\n",
    "\n",
    "  \n",
    "    def call(self, inputs):\n",
    "        #call method \n",
    "\n",
    "        \n",
    "        x = self.Dense1(inputs)\n",
    "        x = self.Dense2(x)\n",
    "        x = self.Dense3(x)\n",
    "        \n",
    "        x = self.Output(x)\n",
    "          \n",
    "\n",
    "\n",
    "        return x"
   ]
  },
  {
   "cell_type": "code",
   "execution_count": 11,
   "id": "dd57aa0e",
   "metadata": {},
   "outputs": [],
   "source": [
    "units = [512, 256, 128]\n",
    "activations = ['relu', 'relu', 'relu']\n",
    "out_units = 10\n",
    "out_activation = 'softmax'\n",
    "\n",
    "#intialize a model instance of the created class\n",
    "model = MLP_Model(units, activations, out_units, out_activation)"
   ]
  },
  {
   "cell_type": "code",
   "execution_count": 12,
   "id": "34c2c52a",
   "metadata": {},
   "outputs": [],
   "source": [
    "# compile model with adam optimizer\n",
    "model.compile(optimizer='Adam', loss='sparse_categorical_crossentropy', metrics=['Accuracy'])"
   ]
  },
  {
   "cell_type": "code",
   "execution_count": 13,
   "id": "1376ca03",
   "metadata": {},
   "outputs": [
    {
     "name": "stdout",
     "output_type": "stream",
     "text": [
      "Epoch 1/20\n",
      "1050/1050 [==============================] - 6s 5ms/step - loss: 0.2453 - Accuracy: 0.9261 - val_loss: 0.1459 - val_Accuracy: 0.9542\n",
      "Epoch 2/20\n",
      "1050/1050 [==============================] - 6s 5ms/step - loss: 0.1022 - Accuracy: 0.9679 - val_loss: 0.1030 - val_Accuracy: 0.9689\n",
      "Epoch 3/20\n",
      "1050/1050 [==============================] - 6s 6ms/step - loss: 0.0722 - Accuracy: 0.9766 - val_loss: 0.1038 - val_Accuracy: 0.9692\n",
      "Epoch 4/20\n",
      "1050/1050 [==============================] - 6s 6ms/step - loss: 0.0549 - Accuracy: 0.9819 - val_loss: 0.1081 - val_Accuracy: 0.9714\n",
      "Epoch 5/20\n",
      "1050/1050 [==============================] - 6s 6ms/step - loss: 0.0420 - Accuracy: 0.9865 - val_loss: 0.1003 - val_Accuracy: 0.9737\n",
      "Epoch 6/20\n",
      "1050/1050 [==============================] - 6s 6ms/step - loss: 0.0405 - Accuracy: 0.9869 - val_loss: 0.0821 - val_Accuracy: 0.9781\n",
      "Epoch 7/20\n",
      "1050/1050 [==============================] - 6s 6ms/step - loss: 0.0285 - Accuracy: 0.9911 - val_loss: 0.1787 - val_Accuracy: 0.9611\n",
      "Epoch 8/20\n",
      "1050/1050 [==============================] - 6s 6ms/step - loss: 0.0309 - Accuracy: 0.9907 - val_loss: 0.1224 - val_Accuracy: 0.9729\n",
      "Epoch 9/20\n",
      "1050/1050 [==============================] - 6s 6ms/step - loss: 0.0238 - Accuracy: 0.9928 - val_loss: 0.1138 - val_Accuracy: 0.9743\n",
      "Epoch 10/20\n",
      "1050/1050 [==============================] - 6s 6ms/step - loss: 0.0213 - Accuracy: 0.9935 - val_loss: 0.1275 - val_Accuracy: 0.9721\n",
      "Epoch 11/20\n",
      "1050/1050 [==============================] - 6s 6ms/step - loss: 0.0203 - Accuracy: 0.9936 - val_loss: 0.1184 - val_Accuracy: 0.9776\n",
      "Epoch 12/20\n",
      "1050/1050 [==============================] - 6s 6ms/step - loss: 0.0185 - Accuracy: 0.9942 - val_loss: 0.1291 - val_Accuracy: 0.9765\n",
      "Epoch 13/20\n",
      "1050/1050 [==============================] - 6s 6ms/step - loss: 0.0191 - Accuracy: 0.9946 - val_loss: 0.1233 - val_Accuracy: 0.9786\n",
      "Epoch 14/20\n",
      "1050/1050 [==============================] - 6s 6ms/step - loss: 0.0174 - Accuracy: 0.9949 - val_loss: 0.1433 - val_Accuracy: 0.9718\n",
      "Epoch 15/20\n",
      "1050/1050 [==============================] - 6s 6ms/step - loss: 0.0123 - Accuracy: 0.9966 - val_loss: 0.1229 - val_Accuracy: 0.9768\n",
      "Epoch 16/20\n",
      "1050/1050 [==============================] - 6s 6ms/step - loss: 0.0177 - Accuracy: 0.9954 - val_loss: 0.1215 - val_Accuracy: 0.9774\n",
      "Epoch 17/20\n",
      "1050/1050 [==============================] - 6s 6ms/step - loss: 0.0159 - Accuracy: 0.9955 - val_loss: 0.1183 - val_Accuracy: 0.9773\n",
      "Epoch 18/20\n",
      "1050/1050 [==============================] - 6s 6ms/step - loss: 0.0100 - Accuracy: 0.9972 - val_loss: 0.1429 - val_Accuracy: 0.9744\n",
      "Epoch 19/20\n",
      "1050/1050 [==============================] - 6s 6ms/step - loss: 0.0156 - Accuracy: 0.9956 - val_loss: 0.1442 - val_Accuracy: 0.9773\n",
      "Epoch 20/20\n",
      "1050/1050 [==============================] - 8s 8ms/step - loss: 0.0135 - Accuracy: 0.9964 - val_loss: 0.1374 - val_Accuracy: 0.9786\n"
     ]
    }
   ],
   "source": [
    "#fit model and train\n",
    "EPOCHS=20\n",
    "history = model.fit(X_train, y_train, epochs=EPOCHS, validation_data=(X_val, y_val))"
   ]
  },
  {
   "cell_type": "code",
   "execution_count": 14,
   "id": "d9ccdeb3",
   "metadata": {},
   "outputs": [
    {
     "data": {
      "image/png": "[encoded data removed]",
      "text/plain": [
       "<Figure size 576x576 with 2 Axes>"
      ]
     },
     "metadata": {
      "needs_background": "light"
     },
     "output_type": "display_data"
    }
   ],
   "source": [
    "### Plot the losses and metrics for the training and test data\n",
    "acc = history.history['Accuracy']\n",
    "val_acc = history.history['val_Accuracy']\n",
    "\n",
    "loss = history.history['loss']\n",
    "val_loss = history.history['val_loss']\n",
    "\n",
    "epochs_range = range(EPOCHS)\n",
    "\n",
    "plt.figure(figsize=(8, 8))\n",
    "plt.subplot(1, 2, 1)\n",
    "plt.plot(epochs_range, acc, label='Training Accuracy')\n",
    "plt.plot(epochs_range, val_acc, label='Validation Accuracy')\n",
    "plt.legend(loc='lower right')\n",
    "plt.title('Training and Validation Accuracy')\n",
    "\n",
    "plt.subplot(1, 2, 2)\n",
    "plt.plot(epochs_range, loss, label='Training Loss')\n",
    "plt.plot(epochs_range, val_loss, label='Validation Loss')\n",
    "plt.legend(loc='upper right')\n",
    "plt.title('Training and Validation Loss')\n",
    "plt.show()"
   ]
  },
  {
   "cell_type": "code",
   "execution_count": 15,
   "id": "169c6a2e",
   "metadata": {},
   "outputs": [
    {
     "name": "stdout",
     "output_type": "stream",
     "text": [
      "875/875 [==============================] - 3s 3ms/step\n"
     ]
    }
   ],
   "source": [
    "#predict the test label using model\n",
    "y_pred = model.predict(X_test)"
   ]
  },
  {
   "cell_type": "code",
   "execution_count": 16,
   "id": "59da13ff",
   "metadata": {},
   "outputs": [],
   "source": [
    "#convert prediction to an array\n",
    "y_pred = np.argmax(y_pred, 1)"
   ]
  },
  {
   "cell_type": "code",
   "execution_count": 17,
   "id": "d6687d8f",
   "metadata": {},
   "outputs": [
    {
     "data": {
      "text/plain": [
       "<Figure size 720x720 with 0 Axes>"
      ]
     },
     "metadata": {},
     "output_type": "display_data"
    },
    {
     "data": {
      "image/png": "[encoded data removed]",
      "text/plain": [
       "<Figure size 432x288 with 10 Axes>"
      ]
     },
     "metadata": {
      "needs_background": "light"
     },
     "output_type": "display_data"
    }
   ],
   "source": [
    "#visualize few images of test data and predicted labels\n",
    "plt.figure(figsize=(10,10))\n",
    "f, ax = plt.subplots(2, 5)\n",
    "\n",
    "for i in range(5):\n",
    "    ax[0,i].imshow(test_images[i+5])\n",
    "    ax[0,i].set_title(y_pred[i+5])\n",
    "    ax[1,i].imshow(test_images[i])\n",
    "    ax[1,i].set_title(y_pred[i])"
   ]
  },
  {
   "cell_type": "code",
   "execution_count": 18,
   "id": "c2bb7047",
   "metadata": {},
   "outputs": [
    {
     "data": {
      "text/html": [
       "<div>\n",
       "<style scoped>\n",
       "    .dataframe tbody tr th:only-of-type {\n",
       "        vertical-align: middle;\n",
       "    }\n",
       "\n",
       "    .dataframe tbody tr th {\n",
       "        vertical-align: top;\n",
       "    }\n",
       "\n",
       "    .dataframe thead th {\n",
       "        text-align: right;\n",
       "    }\n",
       "</style>\n",
       "<table border=\"1\" class=\"dataframe\">\n",
       "  <thead>\n",
       "    <tr style=\"text-align: right;\">\n",
       "      <th></th>\n",
       "      <th>ImageId</th>\n",
       "      <th>Label</th>\n",
       "    </tr>\n",
       "  </thead>\n",
       "  <tbody>\n",
       "    <tr>\n",
       "      <th>0</th>\n",
       "      <td>1</td>\n",
       "      <td>2</td>\n",
       "    </tr>\n",
       "    <tr>\n",
       "      <th>1</th>\n",
       "      <td>2</td>\n",
       "      <td>0</td>\n",
       "    </tr>\n",
       "    <tr>\n",
       "      <th>2</th>\n",
       "      <td>3</td>\n",
       "      <td>9</td>\n",
       "    </tr>\n",
       "    <tr>\n",
       "      <th>3</th>\n",
       "      <td>4</td>\n",
       "      <td>9</td>\n",
       "    </tr>\n",
       "    <tr>\n",
       "      <th>4</th>\n",
       "      <td>5</td>\n",
       "      <td>3</td>\n",
       "    </tr>\n",
       "    <tr>\n",
       "      <th>...</th>\n",
       "      <td>...</td>\n",
       "      <td>...</td>\n",
       "    </tr>\n",
       "    <tr>\n",
       "      <th>27995</th>\n",
       "      <td>27996</td>\n",
       "      <td>9</td>\n",
       "    </tr>\n",
       "    <tr>\n",
       "      <th>27996</th>\n",
       "      <td>27997</td>\n",
       "      <td>7</td>\n",
       "    </tr>\n",
       "    <tr>\n",
       "      <th>27997</th>\n",
       "      <td>27998</td>\n",
       "      <td>3</td>\n",
       "    </tr>\n",
       "    <tr>\n",
       "      <th>27998</th>\n",
       "      <td>27999</td>\n",
       "      <td>9</td>\n",
       "    </tr>\n",
       "    <tr>\n",
       "      <th>27999</th>\n",
       "      <td>28000</td>\n",
       "      <td>2</td>\n",
       "    </tr>\n",
       "  </tbody>\n",
       "</table>\n",
       "<p>28000 rows × 2 columns</p>\n",
       "</div>"
      ],
      "text/plain": [
       "       ImageId  Label\n",
       "0            1      2\n",
       "1            2      0\n",
       "2            3      9\n",
       "3            4      9\n",
       "4            5      3\n",
       "...        ...    ...\n",
       "27995    27996      9\n",
       "27996    27997      7\n",
       "27997    27998      3\n",
       "27998    27999      9\n",
       "27999    28000      2\n",
       "\n",
       "[28000 rows x 2 columns]"
      ]
     },
     "execution_count": 18,
     "metadata": {},
     "output_type": "execute_result"
    }
   ],
   "source": [
    "#convert prediction to dataframe\n",
    "submission = pd.DataFrame(y_pred, columns=['Label'])\n",
    "submission.index +=1\n",
    "submission.reset_index(inplace=True)\n",
    "submission.rename(columns={'index':'ImageId'}, inplace=True)\n",
    "submission"
   ]
  },
  {
   "cell_type": "code",
   "execution_count": 19,
   "id": "1ac50070",
   "metadata": {},
   "outputs": [],
   "source": [
    "#convert Dataframe to csv\n",
    "submission.to_csv('./submission.csv', header=True, index=False)"
   ]
  }
 ],
 "metadata": {
  "kernelspec": {
   "display_name": "Python 3 (ipykernel)",
   "language": "python",
   "name": "python3"
  },
  "language_info": {
   "codemirror_mode": {
    "name": "ipython",
    "version": 3
   },
   "file_extension": ".py",
   "mimetype": "text/x-python",
   "name": "python",
   "nbconvert_exporter": "python",
   "pygments_lexer": "ipython3",
   "version": "3.9.12"
  }
 },
 "nbformat": 4,
 "nbformat_minor": 5
}
